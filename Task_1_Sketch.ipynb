{
 "cells": [
  {
   "cell_type": "markdown",
   "metadata": {
    "id": "W92T938HAvf4"
   },
   "source": [
    "**LetsGrowMore #DEC2021**\n",
    "\n",
    "Name - Siddhesh D Patil\n",
    "\n",
    "Task-1: Image to Pencil Sketch with Python\n",
    "\n",
    "Level : Beginner\n"
   ]
  },
  {
   "cell_type": "markdown",
   "metadata": {
    "id": "N08c5OJ5A-2n"
   },
   "source": [
    "**Import Required Libraries**"
   ]
  },
  {
   "cell_type": "code",
   "execution_count": null,
   "metadata": {
    "id": "BFakLQR8ZNc2"
   },
   "outputs": [],
   "source": [
    "import cv2\n",
    "from google.colab.patches import cv2_imshow\n",
    "import matplotlib.pyplot as plt"
   ]
  },
  {
   "cell_type": "markdown",
   "metadata": {
    "id": "o3WtA2YRBNsJ"
   },
   "source": [
    "**Importing Image**"
   ]
  },
  {
   "cell_type": "code",
   "execution_count": null,
   "metadata": {
    "colab": {
     "base_uri": "https://localhost:8080/",
     "height": 846
    },
    "id": "0A4k_9DohCxj",
    "outputId": "658c2ed9-6f5b-4356-c812-2b98c6bb0e2f"
   },
   "outputs": [],
   "source": [
    "#Original Image\n",
    "image=cv2.imread(\"/content/cat.jpg\")\n",
    "cv2_imshow(image)"
   ]
  },
  {
   "cell_type": "markdown",
   "metadata": {
    "id": "hReb6aK2mYiQ"
   },
   "source": [
    "**Converting Image into Grey Scale Image.**"
   ]
  },
  {
   "cell_type": "code",
   "execution_count": null,
   "metadata": {
    "colab": {
     "base_uri": "https://localhost:8080/",
     "height": 846
    },
    "id": "IWYuaGtCiI4H",
    "outputId": "71010a32-4478-4069-f272-6344cf4ebe81"
   },
   "outputs": [],
   "source": [
    "#grey Scale Image\n",
    "grey_image=cv2.cvtColor(image,cv2.COLOR_BGR2GRAY) \n",
    "cv2_imshow(grey_image)"
   ]
  },
  {
   "cell_type": "markdown",
   "metadata": {
    "id": "AdXnIz6Pmq1A"
   },
   "source": [
    "**Inverting the grey scale image**"
   ]
  },
  {
   "cell_type": "code",
   "execution_count": null,
   "metadata": {
    "colab": {
     "base_uri": "https://localhost:8080/",
     "height": 846
    },
    "id": "VIiM9urVi8R8",
    "outputId": "88cdc80e-fdfe-4e1b-868a-78ecae1fd9f8"
   },
   "outputs": [],
   "source": [
    "#inverted Image\n",
    "inverted_image = cv2.bitwise_not(grey_image)  \n",
    "cv2_imshow(inverted_image)"
   ]
  },
  {
   "cell_type": "markdown",
   "metadata": {
    "id": "AxTAXKFmqjDi"
   },
   "source": [
    "**Image Smoothing**\n"
   ]
  },
  {
   "cell_type": "code",
   "execution_count": null,
   "metadata": {
    "colab": {
     "base_uri": "https://localhost:8080/",
     "height": 846
    },
    "id": "3cGUqPTjqgFt",
    "outputId": "b9f27705-648e-420b-ede2-efb8b73d9e1d"
   },
   "outputs": [],
   "source": [
    "#image smoothing\n",
    "image_smoothing = cv2.GaussianBlur(inverted_image, (21, 21),sigmaX=0, sigmaY=0)\n",
    "cv2_imshow(image_smoothing)"
   ]
  },
  {
   "cell_type": "markdown",
   "metadata": {
    "id": "zzqxyYyrqsDa"
   },
   "source": [
    "**Pencil sketch**"
   ]
  },
  {
   "cell_type": "code",
   "execution_count": null,
   "metadata": {
    "id": "JGOJF2iSqyXR"
   },
   "outputs": [],
   "source": [
    "def pencil_sketch(x, y):\n",
    "\n",
    "    return cv2.divide(x, 255 - y, scale=256)"
   ]
  },
  {
   "cell_type": "code",
   "execution_count": null,
   "metadata": {
    "colab": {
     "base_uri": "https://localhost:8080/",
     "height": 846
    },
    "id": "r_IGdQVpq0lw",
    "outputId": "8626e2fa-a653-43bb-fe87-a19a4ed7a077"
   },
   "outputs": [],
   "source": [
    "#pencil sketch\n",
    "pencil_sketch=pencil_sketch(grey_image,image_smoothing)\n",
    "cv2_imshow(pencil_sketch)"
   ]
  },
  {
   "cell_type": "markdown",
   "metadata": {
    "id": "KvFertDiCRgW"
   },
   "source": [
    "**Showing Original Image and the Pencil Sketch**"
   ]
  },
  {
   "cell_type": "code",
   "execution_count": null,
   "metadata": {
    "colab": {
     "base_uri": "https://localhost:8080/",
     "height": 1000
    },
    "id": "KlFFaIvwq2yq",
    "outputId": "44be9ae7-d950-45b7-ec3b-d8feaf5342ea"
   },
   "outputs": [],
   "source": [
    "cv2_imshow(image)\n",
    "cv2_imshow(pencil_sketch)"
   ]
  },
  {
   "cell_type": "markdown",
   "metadata": {
    "id": "ZQTn5x3Mq_gs"
   },
   "source": [
    "**Image to Pencil Sketch with Python is done successfully!!**\n",
    "\n",
    "\n"
   ]
  }
 ],
 "metadata": {
  "colab": {
   "collapsed_sections": [],
   "name": "Task 1 Sketch.ipynb",
   "provenance": []
  },
  "kernelspec": {
   "display_name": "Python 3",
   "language": "python",
   "name": "python3"
  },
  "language_info": {
   "codemirror_mode": {
    "name": "ipython",
    "version": 3
   },
   "file_extension": ".py",
   "mimetype": "text/x-python",
   "name": "python",
   "nbconvert_exporter": "python",
   "pygments_lexer": "ipython3",
   "version": "3.8.5"
  }
 },
 "nbformat": 4,
 "nbformat_minor": 1
}
